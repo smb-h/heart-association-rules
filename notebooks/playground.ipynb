{
  "cells": [
    {
      "cell_type": "code",
      "execution_count": 40,
      "metadata": {
        "id": "xFQjDIhQHrdI"
      },
      "outputs": [],
      "source": [
        "import pandas as pd\n",
        "import numpy as np\n",
        "from mlxtend.preprocessing import TransactionEncoder\n",
        "from mlxtend.frequent_patterns import apriori, association_rules\n",
        "\n",
        "import plotly.express as px\n",
        "import plotly.graph_objects as go"
      ]
    },
    {
      "cell_type": "code",
      "execution_count": 41,
      "metadata": {
        "colab": {
          "base_uri": "https://localhost:8080/",
          "height": 319
        },
        "id": "oekYtCQ4HrdL",
        "outputId": "e88e6d4f-0202-458e-8027-b96e0d9e2349"
      },
      "outputs": [
        {
          "name": "stdout",
          "output_type": "stream",
          "text": [
            "(50059, 19)\n"
          ]
        },
        {
          "data": {
            "text/html": [
              "<div>\n",
              "<style scoped>\n",
              "    .dataframe tbody tr th:only-of-type {\n",
              "        vertical-align: middle;\n",
              "    }\n",
              "\n",
              "    .dataframe tbody tr th {\n",
              "        vertical-align: top;\n",
              "    }\n",
              "\n",
              "    .dataframe thead th {\n",
              "        text-align: right;\n",
              "    }\n",
              "</style>\n",
              "<table border=\"1\" class=\"dataframe\">\n",
              "  <thead>\n",
              "    <tr style=\"text-align: right;\">\n",
              "      <th></th>\n",
              "      <th>DisRheumaticHeartAge</th>\n",
              "      <th>DisHeartDiseaseDx</th>\n",
              "      <th>DisHeartDiseaseAge</th>\n",
              "      <th>DisStrokeDx</th>\n",
              "      <th>DisStrokeAge</th>\n",
              "      <th>DisHypertensionDx</th>\n",
              "      <th>DisHypertensionAge</th>\n",
              "      <th>DisDiabetesDx</th>\n",
              "      <th>DisDiabetesAge</th>\n",
              "      <th>DisCOPDDx</th>\n",
              "      <th>DisCOPDAge</th>\n",
              "      <th>DisRenalFailureDx</th>\n",
              "      <th>DisRenalFailureAge</th>\n",
              "      <th>DisJaundiceDx</th>\n",
              "      <th>DisJaundiceAge</th>\n",
              "      <th>DisLiverDx</th>\n",
              "      <th>DisLiverAge</th>\n",
              "      <th>DisTBDx</th>\n",
              "      <th>DisTBAge</th>\n",
              "    </tr>\n",
              "    <tr>\n",
              "      <th>DisRheumaticHeartDx</th>\n",
              "      <th></th>\n",
              "      <th></th>\n",
              "      <th></th>\n",
              "      <th></th>\n",
              "      <th></th>\n",
              "      <th></th>\n",
              "      <th></th>\n",
              "      <th></th>\n",
              "      <th></th>\n",
              "      <th></th>\n",
              "      <th></th>\n",
              "      <th></th>\n",
              "      <th></th>\n",
              "      <th></th>\n",
              "      <th></th>\n",
              "      <th></th>\n",
              "      <th></th>\n",
              "      <th></th>\n",
              "      <th></th>\n",
              "    </tr>\n",
              "  </thead>\n",
              "  <tbody>\n",
              "    <tr>\n",
              "      <th>2</th>\n",
              "      <td>98.0</td>\n",
              "      <td>2</td>\n",
              "      <td>98</td>\n",
              "      <td>2</td>\n",
              "      <td>98</td>\n",
              "      <td>2</td>\n",
              "      <td>98</td>\n",
              "      <td>2</td>\n",
              "      <td>98</td>\n",
              "      <td>2</td>\n",
              "      <td>98</td>\n",
              "      <td>2</td>\n",
              "      <td>98</td>\n",
              "      <td>2</td>\n",
              "      <td>98</td>\n",
              "      <td>2</td>\n",
              "      <td>98</td>\n",
              "      <td>2</td>\n",
              "      <td>98</td>\n",
              "    </tr>\n",
              "    <tr>\n",
              "      <th>2</th>\n",
              "      <td>98.0</td>\n",
              "      <td>1</td>\n",
              "      <td>58</td>\n",
              "      <td>2</td>\n",
              "      <td>98</td>\n",
              "      <td>1</td>\n",
              "      <td>59</td>\n",
              "      <td>2</td>\n",
              "      <td>98</td>\n",
              "      <td>2</td>\n",
              "      <td>98</td>\n",
              "      <td>2</td>\n",
              "      <td>98</td>\n",
              "      <td>2</td>\n",
              "      <td>98</td>\n",
              "      <td>2</td>\n",
              "      <td>98</td>\n",
              "      <td>2</td>\n",
              "      <td>98</td>\n",
              "    </tr>\n",
              "    <tr>\n",
              "      <th>2</th>\n",
              "      <td>98.0</td>\n",
              "      <td>1</td>\n",
              "      <td>41</td>\n",
              "      <td>2</td>\n",
              "      <td>98</td>\n",
              "      <td>2</td>\n",
              "      <td>98</td>\n",
              "      <td>2</td>\n",
              "      <td>98</td>\n",
              "      <td>2</td>\n",
              "      <td>98</td>\n",
              "      <td>2</td>\n",
              "      <td>98</td>\n",
              "      <td>2</td>\n",
              "      <td>98</td>\n",
              "      <td>2</td>\n",
              "      <td>98</td>\n",
              "      <td>2</td>\n",
              "      <td>98</td>\n",
              "    </tr>\n",
              "    <tr>\n",
              "      <th>2</th>\n",
              "      <td>98.0</td>\n",
              "      <td>2</td>\n",
              "      <td>98</td>\n",
              "      <td>2</td>\n",
              "      <td>98</td>\n",
              "      <td>2</td>\n",
              "      <td>98</td>\n",
              "      <td>2</td>\n",
              "      <td>98</td>\n",
              "      <td>2</td>\n",
              "      <td>98</td>\n",
              "      <td>2</td>\n",
              "      <td>98</td>\n",
              "      <td>2</td>\n",
              "      <td>98</td>\n",
              "      <td>2</td>\n",
              "      <td>98</td>\n",
              "      <td>2</td>\n",
              "      <td>98</td>\n",
              "    </tr>\n",
              "    <tr>\n",
              "      <th>2</th>\n",
              "      <td>98.0</td>\n",
              "      <td>1</td>\n",
              "      <td>72</td>\n",
              "      <td>2</td>\n",
              "      <td>98</td>\n",
              "      <td>1</td>\n",
              "      <td>72</td>\n",
              "      <td>2</td>\n",
              "      <td>98</td>\n",
              "      <td>2</td>\n",
              "      <td>98</td>\n",
              "      <td>2</td>\n",
              "      <td>98</td>\n",
              "      <td>2</td>\n",
              "      <td>98</td>\n",
              "      <td>2</td>\n",
              "      <td>98</td>\n",
              "      <td>2</td>\n",
              "      <td>98</td>\n",
              "    </tr>\n",
              "  </tbody>\n",
              "</table>\n",
              "</div>"
            ],
            "text/plain": [
              "                     DisRheumaticHeartAge  DisHeartDiseaseDx  \\\n",
              "DisRheumaticHeartDx                                            \n",
              "2                                    98.0                  2   \n",
              "2                                    98.0                  1   \n",
              "2                                    98.0                  1   \n",
              "2                                    98.0                  2   \n",
              "2                                    98.0                  1   \n",
              "\n",
              "                     DisHeartDiseaseAge  DisStrokeDx  DisStrokeAge  \\\n",
              "DisRheumaticHeartDx                                                  \n",
              "2                                    98            2            98   \n",
              "2                                    58            2            98   \n",
              "2                                    41            2            98   \n",
              "2                                    98            2            98   \n",
              "2                                    72            2            98   \n",
              "\n",
              "                     DisHypertensionDx  DisHypertensionAge  DisDiabetesDx  \\\n",
              "DisRheumaticHeartDx                                                         \n",
              "2                                    2                  98              2   \n",
              "2                                    1                  59              2   \n",
              "2                                    2                  98              2   \n",
              "2                                    2                  98              2   \n",
              "2                                    1                  72              2   \n",
              "\n",
              "                     DisDiabetesAge  DisCOPDDx  DisCOPDAge  DisRenalFailureDx  \\\n",
              "DisRheumaticHeartDx                                                             \n",
              "2                                98          2          98                  2   \n",
              "2                                98          2          98                  2   \n",
              "2                                98          2          98                  2   \n",
              "2                                98          2          98                  2   \n",
              "2                                98          2          98                  2   \n",
              "\n",
              "                     DisRenalFailureAge  DisJaundiceDx  DisJaundiceAge  \\\n",
              "DisRheumaticHeartDx                                                      \n",
              "2                                    98              2              98   \n",
              "2                                    98              2              98   \n",
              "2                                    98              2              98   \n",
              "2                                    98              2              98   \n",
              "2                                    98              2              98   \n",
              "\n",
              "                     DisLiverDx  DisLiverAge  DisTBDx  DisTBAge  \n",
              "DisRheumaticHeartDx                                              \n",
              "2                             2           98        2        98  \n",
              "2                             2           98        2        98  \n",
              "2                             2           98        2        98  \n",
              "2                             2           98        2        98  \n",
              "2                             2           98        2        98  "
            ]
          },
          "execution_count": 41,
          "metadata": {},
          "output_type": "execute_result"
        }
      ],
      "source": [
        "df = pd.read_excel(\"../data/raw/heart 20 features.xlsx\", index_col=0)\n",
        "print(df.shape)\n",
        "df.head()"
      ]
    },
    {
      "cell_type": "code",
      "execution_count": 42,
      "metadata": {
        "colab": {
          "base_uri": "https://localhost:8080/"
        },
        "id": "baIPoKX5Ij2S",
        "outputId": "475e5b3f-4c0c-4cf1-e45c-6a9df4c80f72"
      },
      "outputs": [
        {
          "data": {
            "text/plain": [
              "Index(['DisRheumaticHeartAge', 'DisHeartDiseaseDx', 'DisHeartDiseaseAge',\n",
              "       'DisStrokeDx', 'DisStrokeAge', 'DisHypertensionDx',\n",
              "       'DisHypertensionAge', 'DisDiabetesDx', 'DisDiabetesAge', 'DisCOPDDx',\n",
              "       'DisCOPDAge', 'DisRenalFailureDx', 'DisRenalFailureAge',\n",
              "       'DisJaundiceDx', 'DisJaundiceAge', 'DisLiverDx', 'DisLiverAge',\n",
              "       'DisTBDx', 'DisTBAge'],\n",
              "      dtype='object')"
            ]
          },
          "execution_count": 42,
          "metadata": {},
          "output_type": "execute_result"
        }
      ],
      "source": [
        "df.columns "
      ]
    },
    {
      "cell_type": "code",
      "execution_count": 43,
      "metadata": {
        "colab": {
          "base_uri": "https://localhost:8080/"
        },
        "id": "PdloL03qHrdN",
        "outputId": "d7ef084b-9aef-45f2-d6cd-5ec338372ca9"
      },
      "outputs": [
        {
          "name": "stdout",
          "output_type": "stream",
          "text": [
            "DisRheumaticHeartAge 37\n",
            "DisHeartDiseaseDx 2\n",
            "DisHeartDiseaseAge 65\n",
            "DisStrokeDx 2\n",
            "DisStrokeAge 48\n",
            "DisHypertensionDx 2\n",
            "DisHypertensionAge 69\n",
            "DisDiabetesDx 2\n",
            "DisDiabetesAge 60\n",
            "DisCOPDDx 2\n",
            "DisCOPDAge 77\n",
            "DisRenalFailureDx 2\n",
            "DisRenalFailureAge 37\n",
            "DisJaundiceDx 2\n",
            "DisJaundiceAge 72\n",
            "DisLiverDx 2\n",
            "DisLiverAge 23\n",
            "DisTBDx 3\n",
            "DisTBAge 75\n"
          ]
        }
      ],
      "source": [
        "# print count of unique values in each column\n",
        "for col in df.columns:\n",
        "    print(col, df[col].nunique())"
      ]
    },
    {
      "cell_type": "code",
      "execution_count": 44,
      "metadata": {
        "colab": {
          "base_uri": "https://localhost:8080/"
        },
        "id": "PEZZRnZMHrdP",
        "outputId": "8c4bdd89-5599-48da-c25e-65b66f4beade"
      },
      "outputs": [
        {
          "name": "stdout",
          "output_type": "stream",
          "text": [
            "DisRheumaticHeartAge 2.0 98.0\n",
            "DisHeartDiseaseDx 1 2\n",
            "DisHeartDiseaseAge 2 99\n",
            "DisStrokeDx 1 2\n",
            "DisStrokeAge 15 98\n",
            "DisHypertensionDx 1 2\n",
            "DisHypertensionAge 2 98\n",
            "DisDiabetesDx 1 2\n",
            "DisDiabetesAge 3 98\n",
            "DisCOPDDx 1 2\n",
            "DisCOPDAge 1 99\n",
            "DisRenalFailureDx 1 2\n",
            "DisRenalFailureAge 10 98\n",
            "DisJaundiceDx 1 2\n",
            "DisJaundiceAge 1 98\n",
            "DisLiverDx 1 2\n",
            "DisLiverAge 10 98\n",
            "DisTBDx 0 2\n",
            "DisTBAge 0 171\n"
          ]
        }
      ],
      "source": [
        "# Preprocess the data by converting any continuous variables into categorical variables\n",
        "cols_to_convert = ['DisRheumaticHeartAge', 'DisHeartDiseaseDx', 'DisHeartDiseaseAge',\n",
        "       'DisStrokeDx', 'DisStrokeAge', 'DisHypertensionDx',\n",
        "       'DisHypertensionAge', 'DisDiabetesDx', 'DisDiabetesAge', 'DisCOPDDx',\n",
        "       'DisCOPDAge', 'DisRenalFailureDx', 'DisRenalFailureAge',\n",
        "       'DisJaundiceDx', 'DisJaundiceAge', 'DisLiverDx', 'DisLiverAge',\n",
        "       'DisTBDx', 'DisTBAge']\n",
        "for col in cols_to_convert:\n",
        "    # print min and max values for each column\n",
        "    print(col, df[col].min(), df[col].max())"
      ]
    },
    {
      "cell_type": "code",
      "execution_count": 45,
      "metadata": {
        "colab": {
          "base_uri": "https://localhost:8080/"
        },
        "id": "QXWTjjfZHrdQ",
        "outputId": "5ea178a8-b0ec-4f6f-8b70-7a843658d5b5"
      },
      "outputs": [
        {
          "name": "stdout",
          "output_type": "stream",
          "text": [
            "[98. 30. 20. 25. 12. 34. 31. 42. 22. 33. nan 60. 18. 27. 50. 11. 46. 32.\n",
            " 53. 70. 40. 43. 15. 41. 10. 14. 35. 38.  2. 21. 26. 39. 49. 16.  7. 54.\n",
            " 28. 23.]\n",
            "[NaN, '<30', '30-40', '40-50', '50-60', '60-70']\n",
            "Categories (7, object): ['<30' < '30-40' < '40-50' < '50-60' < '60-70' < '70-80' < '80+']\n"
          ]
        }
      ],
      "source": [
        "print(df['DisRheumaticHeartAge'].unique())\n",
        "df['DisRheumaticHeartAge'] = pd.cut(df['DisRheumaticHeartAge'], bins=[0, 30, 40, 50, 60, 70, 80, 90], labels=['<30', '30-40', '40-50', '50-60', '60-70', '70-80', '80+'])\n",
        "print(df['DisRheumaticHeartAge'].unique())"
      ]
    },
    {
      "cell_type": "code",
      "execution_count": 46,
      "metadata": {
        "colab": {
          "base_uri": "https://localhost:8080/"
        },
        "id": "kFFEV7YuHrdS",
        "outputId": "cd523806-fb8d-4448-d9a9-49211a00f750"
      },
      "outputs": [
        {
          "name": "stdout",
          "output_type": "stream",
          "text": [
            "[2 1]\n",
            "['<10']\n",
            "Categories (9, object): ['<10' < '10-20' < '20-30' < '30-40' ... '50-60' < '60-70' < '70-80' < '80+']\n"
          ]
        }
      ],
      "source": [
        "print(df['DisHeartDiseaseDx'].unique())\n",
        "df['DisHeartDiseaseDx'] = pd.cut(df['DisHeartDiseaseDx'], bins=[0, 10, 20, 30, 40, 50, 60, 70, 80, 90], labels=['<10', '10-20', '20-30', '30-40', '40-50', '50-60', '60-70', '70-80', '80+'])\n",
        "print(df['DisHeartDiseaseDx'].unique())"
      ]
    },
    {
      "cell_type": "code",
      "execution_count": 47,
      "metadata": {
        "colab": {
          "base_uri": "https://localhost:8080/"
        },
        "id": "SGwwj5QzHrdT",
        "outputId": "48f123d7-95b1-48b8-d739-0c315fc96f06"
      },
      "outputs": [
        {
          "name": "stdout",
          "output_type": "stream",
          "text": [
            "[98 58 41 72 54 55 43 50 39 52 45 53 34 56 46 63 38 40 60 57 69 61 59 64\n",
            " 71 68 49 65 36 67 37 66 47 32 33 51 74 48 25 35 62 70 44 73 30 27 31 42\n",
            " 28 19 24 75  6 23 99 29 14 18 16 20 15 17  2 22 78]\n",
            "[NaN, '50-60', '40-50', '70-80', '30-40', '60-70', '<30']\n",
            "Categories (7, object): ['<30' < '30-40' < '40-50' < '50-60' < '60-70' < '70-80' < '80+']\n"
          ]
        }
      ],
      "source": [
        "print(df['DisHeartDiseaseAge'].unique())\n",
        "df['DisHeartDiseaseAge'] = pd.cut(df['DisHeartDiseaseAge'], bins=[0, 30, 40, 50, 60, 70, 80, 90], labels=['<30', '30-40', '40-50', '50-60', '60-70', '70-80', '80+'])\n",
        "print(df['DisHeartDiseaseAge'].unique())"
      ]
    },
    {
      "cell_type": "code",
      "execution_count": 48,
      "metadata": {
        "colab": {
          "base_uri": "https://localhost:8080/"
        },
        "id": "ToJES-JjHrdU",
        "outputId": "572c3555-ead3-4734-a97f-5922af38f790"
      },
      "outputs": [
        {
          "name": "stdout",
          "output_type": "stream",
          "text": [
            "[2 1]\n",
            "['<15']\n",
            "Categories (16, object): ['<15' < '15-30' < '30-45' < '45-60' ... '180-195' < '195-210' < '210-225' < '225+']\n"
          ]
        }
      ],
      "source": [
        "print(df['DisStrokeDx'].unique())\n",
        "df['DisStrokeDx'] = pd.cut(df['DisStrokeDx'], bins=[-1, 15, 30, 45, 60, 75, 90, 105, 120, 135, 150, 165, 180, 195, 210, 225, 240], labels=['<15', '15-30', '30-45', '45-60', '60-75', '75-90', '90-105', '105-120', '120-135', '135-150', '150-165', '165-180', '180-195', '195-210', '210-225', '225+'])\n",
        "print(df['DisStrokeDx'].unique())"
      ]
    },
    {
      "cell_type": "code",
      "execution_count": 49,
      "metadata": {
        "colab": {
          "base_uri": "https://localhost:8080/"
        },
        "id": "ElG1FYyuHrdU",
        "outputId": "a58157a0-0fbf-4058-a48c-c1421f6f26b2"
      },
      "outputs": [
        {
          "name": "stdout",
          "output_type": "stream",
          "text": [
            "[98 58 59 47 48 52 56 66 53 68 54 42 57 55 62 64 46 51 72 73 43 39 44 40\n",
            " 60 32 20 31 50 61 35 38 45 49 69 65 41 67 63 70 36 30 28 71 33 34 15 74]\n",
            "[NaN, '50-60', '40-50', '60-70', '70-80', '30-40', '10-20', '20-30']\n",
            "Categories (9, object): ['<10' < '10-20' < '20-30' < '30-40' ... '50-60' < '60-70' < '70-80' < '80+']\n"
          ]
        }
      ],
      "source": [
        "print(df['DisStrokeAge'].unique())\n",
        "df['DisStrokeAge'] = pd.cut(df['DisStrokeAge'], bins=[0, 10, 20, 30, 40, 50, 60, 70, 80, 90], labels=['<10', '10-20', '20-30', '30-40', '40-50', '50-60', '60-70', '70-80', '80+'])\n",
        "print(df['DisStrokeAge'].unique())"
      ]
    },
    {
      "cell_type": "code",
      "execution_count": 50,
      "metadata": {
        "colab": {
          "base_uri": "https://localhost:8080/"
        },
        "id": "ub2sOqraHrdW",
        "outputId": "2c1a0821-a7a2-488c-f0c1-9ab6eb7fc60c"
      },
      "outputs": [
        {
          "name": "stdout",
          "output_type": "stream",
          "text": [
            "[2 1]\n",
            "['<30']\n",
            "Categories (14, object): ['<30' < '30-40' < '40-50' < '50-60' ... '180-210' < '210-240' < '240-270' < '270+']\n"
          ]
        }
      ],
      "source": [
        "print(df['DisHypertensionDx'].unique())\n",
        "df['DisHypertensionDx'] = pd.cut(df['DisHypertensionDx'], bins=[-1, 30, 40, 50, 60, 70, 80, 90, 120, 150, 180, 210, 240, 270, 300], labels=['<30', '30-40', '40-50', '50-60', '60-70', '70-80', '80-90', '90-120', '120-150', '150-180', '180-210', '210-240', '240-270', '270+'])\n",
        "print(df['DisHypertensionDx'].unique())"
      ]
    },
    {
      "cell_type": "code",
      "execution_count": 51,
      "metadata": {
        "colab": {
          "base_uri": "https://localhost:8080/"
        },
        "id": "DshMP3NeHrdX",
        "outputId": "573b4d58-de22-4e60-ce14-4dd5131148e2"
      },
      "outputs": [
        {
          "name": "stdout",
          "output_type": "stream",
          "text": [
            "[98 59 72 43 40 46 52 55 45 42 73 56 35 41 34 70 50 60 63 38 37 44 36 69\n",
            " 71 61 39 66 51 57 20 47 58 95 68 53 65 26 54 62 49 48 30 31 77 64  3 67\n",
            " 27 29 32 33 74  6 25 23 16 28 24 75 22 18 21 19 76 15  5 78  2]\n",
            "['90+', '50-60', '70-80', '40-50', '30-40', '60-70', '<30']\n",
            "Categories (8, object): ['<30' < '30-40' < '40-50' < '50-60' < '60-70' < '70-80' < '80-90' < '90+']\n"
          ]
        }
      ],
      "source": [
        "print(df['DisHypertensionAge'].unique())\n",
        "df['DisHypertensionAge'] = pd.cut(df['DisHypertensionAge'], bins=[-1, 30, 40, 50, 60, 70, 80, 90, 100], labels=['<30', '30-40', '40-50', '50-60', '60-70', '70-80', '80-90', '90+'])\n",
        "print(df['DisHypertensionAge'].unique())"
      ]
    },
    {
      "cell_type": "code",
      "execution_count": 52,
      "metadata": {
        "colab": {
          "base_uri": "https://localhost:8080/"
        },
        "id": "V6_h1I-7HrdY",
        "outputId": "ab13e59d-c44a-4bb8-e166-7737b2d69c37"
      },
      "outputs": [
        {
          "name": "stdout",
          "output_type": "stream",
          "text": [
            "[2 1]\n",
            "['<20']\n",
            "Categories (8, object): ['<20' < '20-30' < '30-40' < '40-50' < '50-60' < '60-70' < '70-80' < '80+']\n"
          ]
        }
      ],
      "source": [
        "print(df['DisDiabetesDx'].unique())\n",
        "df['DisDiabetesDx'] = pd.cut(df['DisDiabetesDx'], bins=[0, 20, 30, 40, 50, 60, 70, 80, 90], labels=['<20', '20-30', '30-40', '40-50', '50-60', '60-70', '70-80', '80+'])\n",
        "print(df['DisDiabetesDx'].unique())"
      ]
    },
    {
      "cell_type": "code",
      "execution_count": 53,
      "metadata": {
        "colab": {
          "base_uri": "https://localhost:8080/"
        },
        "id": "1_Gr0H7_HrdY",
        "outputId": "606be3ec-af9b-408b-888e-29bfcd01f0f2"
      },
      "outputs": [
        {
          "name": "stdout",
          "output_type": "stream",
          "text": [
            "[98 40 41 32 53 68 50 45 72 39 28 46 43 52 38 48 49 35 44 71 42 57 69 75\n",
            " 66 56 51 58 64 47 59 30 60 55 54 33 67 61 70 62 63 34 74 37 29 73 18 10\n",
            " 36 65 20 27 22 31 15 26 23  3 25 17]\n",
            "['90-100', '30-40', '40-50', '50-60', '60-70', '70-80', '<30']\n",
            "Categories (10, object): ['<30' < '30-40' < '40-50' < '50-60' ... '80-90' < '90-100' < '100-110' < '110+']\n"
          ]
        }
      ],
      "source": [
        "print(df['DisDiabetesAge'].unique())\n",
        "df['DisDiabetesAge'] = pd.cut(df['DisDiabetesAge'], bins=[0, 30, 40, 50, 60, 70, 80, 90, 100, 110, 120], labels=['<30', '30-40', '40-50', '50-60', '60-70', '70-80', '80-90', '90-100', '100-110', '110+'])\n",
        "print(df['DisDiabetesAge'].unique())"
      ]
    },
    {
      "cell_type": "code",
      "execution_count": 54,
      "metadata": {
        "colab": {
          "base_uri": "https://localhost:8080/"
        },
        "id": "5uxa0sFnHrdZ",
        "outputId": "a0855446-1799-434c-8cc7-84cc657f0206"
      },
      "outputs": [
        {
          "name": "stdout",
          "output_type": "stream",
          "text": [
            "[2 1]\n",
            "['<100']\n",
            "Categories (7, object): ['<100' < '100-120' < '120-140' < '140-160' < '160-180' < '180-200' < '200+']\n"
          ]
        }
      ],
      "source": [
        "print(df['DisCOPDDx'].unique())\n",
        "df['DisCOPDDx'] = pd.cut(df['DisCOPDDx'], bins=[0, 100, 120, 140, 160, 180, 200, 220], labels=['<100', '100-120', '120-140', '140-160', '160-180', '180-200', '200+'])\n",
        "print(df['DisCOPDDx'].unique())"
      ]
    },
    {
      "cell_type": "code",
      "execution_count": 55,
      "metadata": {
        "colab": {
          "base_uri": "https://localhost:8080/"
        },
        "id": "sY_VpBZzKhfK",
        "outputId": "b36deee2-bf8d-4011-a7fe-a2bf4fb13cd0"
      },
      "outputs": [
        {
          "name": "stdout",
          "output_type": "stream",
          "text": [
            "[98 25 30 20 35 32 52 41 43 39 51 15 44 58 50 34 53 59 45 76 49 56 47 57\n",
            " 12 48 37 63  1 64 46 54 70 38 36 60 66 67 22 33 40 62 55 61 68 19 71 65\n",
            " 72 10  7 23 14 42 73 26 31 29 27  8 74 16 24 18  5 75  3 69 21 13 28 17\n",
            " 11  2  6 99  9]\n",
            "['<100']\n",
            "Categories (7, object): ['<100' < '100-120' < '120-140' < '140-160' < '160-180' < '180-200' < '200+']\n"
          ]
        }
      ],
      "source": [
        "print(df['DisCOPDAge'].unique())\n",
        "df['DisCOPDAge'] = pd.cut(df['DisCOPDAge'], bins=[0, 100, 120, 140, 160, 180, 200, 220], labels=['<100', '100-120', '120-140', '140-160', '160-180', '180-200', '200+'])\n",
        "print(df['DisCOPDAge'].unique())"
      ]
    },
    {
      "cell_type": "code",
      "execution_count": 56,
      "metadata": {
        "colab": {
          "base_uri": "https://localhost:8080/"
        },
        "id": "E7RTSTHUKh-C",
        "outputId": "8d1adb29-bc7a-4fb6-e040-d5231c782138"
      },
      "outputs": [
        {
          "name": "stdout",
          "output_type": "stream",
          "text": [
            "[2 1]\n",
            "['<100']\n",
            "Categories (7, object): ['<100' < '100-120' < '120-140' < '140-160' < '160-180' < '180-200' < '200+']\n"
          ]
        }
      ],
      "source": [
        "print(df['DisRenalFailureDx'].unique())\n",
        "df['DisRenalFailureDx'] = pd.cut(df['DisRenalFailureDx'], bins=[0, 100, 120, 140, 160, 180, 200, 220], labels=['<100', '100-120', '120-140', '140-160', '160-180', '180-200', '200+'])\n",
        "print(df['DisRenalFailureDx'].unique())"
      ]
    },
    {
      "cell_type": "code",
      "execution_count": 57,
      "metadata": {
        "colab": {
          "base_uri": "https://localhost:8080/"
        },
        "id": "xcvGxO_2KiBH",
        "outputId": "c35193f0-22d1-4061-c0a1-9b97ea5a99c3"
      },
      "outputs": [
        {
          "name": "stdout",
          "output_type": "stream",
          "text": [
            "[98 43 52 60 38 50 59 53 56 61 54 35 41 51 12 46 30 21 27 45 48 40 73 47\n",
            " 34 36 28 62 10 22 26 25 39 57 44 67 37]\n",
            "['<100']\n",
            "Categories (7, object): ['<100' < '100-120' < '120-140' < '140-160' < '160-180' < '180-200' < '200+']\n"
          ]
        }
      ],
      "source": [
        "print(df['DisRenalFailureAge'].unique())\n",
        "df['DisRenalFailureAge'] = pd.cut(df['DisRenalFailureAge'], bins=[0, 100, 120, 140, 160, 180, 200, 220], labels=['<100', '100-120', '120-140', '140-160', '160-180', '180-200', '200+'])\n",
        "print(df['DisRenalFailureAge'].unique())"
      ]
    },
    {
      "cell_type": "code",
      "execution_count": 58,
      "metadata": {
        "colab": {
          "base_uri": "https://localhost:8080/"
        },
        "id": "9jktRfPRKiD6",
        "outputId": "13654a21-9601-4edf-ec98-140764e9f962"
      },
      "outputs": [
        {
          "name": "stdout",
          "output_type": "stream",
          "text": [
            "[2 1]\n",
            "['<100']\n",
            "Categories (7, object): ['<100' < '100-120' < '120-140' < '140-160' < '160-180' < '180-200' < '200+']\n"
          ]
        }
      ],
      "source": [
        "print(df['DisJaundiceDx'].unique())\n",
        "df['DisJaundiceDx'] = pd.cut(df['DisJaundiceDx'], bins=[0, 100, 120, 140, 160, 180, 200, 220], labels=['<100', '100-120', '120-140', '140-160', '160-180', '180-200', '200+'])\n",
        "print(df['DisJaundiceDx'].unique())"
      ]
    },
    {
      "cell_type": "code",
      "execution_count": 59,
      "metadata": {
        "colab": {
          "base_uri": "https://localhost:8080/"
        },
        "id": "KMadvvvXKiGr",
        "outputId": "36c2cdf7-e179-4f91-8bbc-08436a381675"
      },
      "outputs": [
        {
          "name": "stdout",
          "output_type": "stream",
          "text": [
            "[98 27 28 34 54 20 50 63 41 35 38 30 58 33 56  8 60 40 25 55 26 18 19 44\n",
            " 15 22 62  6 21 29 64 42 52 16  5 10 24 43 48 61 70 66 32 53 49 57 37 71\n",
            " 45 46 13 69 23 47 39 51 65 31 11  3 36 67 68 17 59  7 73 12  9  1 14 72]\n",
            "['<100']\n",
            "Categories (7, object): ['<100' < '100-120' < '120-140' < '140-160' < '160-180' < '180-200' < '200+']\n"
          ]
        }
      ],
      "source": [
        "print(df['DisJaundiceAge'].unique())\n",
        "df['DisJaundiceAge'] = pd.cut(df['DisJaundiceAge'], bins=[0, 100, 120, 140, 160, 180, 200, 220], labels=['<100', '100-120', '120-140', '140-160', '160-180', '180-200', '200+'])\n",
        "print(df['DisJaundiceAge'].unique())"
      ]
    },
    {
      "cell_type": "code",
      "execution_count": 60,
      "metadata": {
        "colab": {
          "base_uri": "https://localhost:8080/"
        },
        "id": "5KGv3KghKiJp",
        "outputId": "a2be5ea5-2590-4bb0-d06c-3a1cba3a8398"
      },
      "outputs": [
        {
          "name": "stdout",
          "output_type": "stream",
          "text": [
            "[2 1]\n",
            "['<100']\n",
            "Categories (7, object): ['<100' < '100-120' < '120-140' < '140-160' < '160-180' < '180-200' < '200+']\n"
          ]
        }
      ],
      "source": [
        "print(df['DisLiverDx'].unique())\n",
        "df['DisLiverDx'] = pd.cut(df['DisLiverDx'], bins=[0, 100, 120, 140, 160, 180, 200, 220], labels=['<100', '100-120', '120-140', '140-160', '160-180', '180-200', '200+'])\n",
        "print(df['DisLiverDx'].unique())"
      ]
    },
    {
      "cell_type": "code",
      "execution_count": 61,
      "metadata": {
        "colab": {
          "base_uri": "https://localhost:8080/"
        },
        "id": "zcYLsm-zLDaK",
        "outputId": "f334e62b-282c-45f8-fc64-b7dfe6c76137"
      },
      "outputs": [
        {
          "name": "stdout",
          "output_type": "stream",
          "text": [
            "[98 50 40 53 47 39 35 15 43 56 42 44 55 30 17 38 37 48 36 29 10 33 49]\n",
            "['<100']\n",
            "Categories (7, object): ['<100' < '100-120' < '120-140' < '140-160' < '160-180' < '180-200' < '200+']\n"
          ]
        }
      ],
      "source": [
        "print(df['DisLiverAge'].unique())\n",
        "df['DisLiverAge'] = pd.cut(df['DisLiverAge'], bins=[0, 100, 120, 140, 160, 180, 200, 220], labels=['<100', '100-120', '120-140', '140-160', '160-180', '180-200', '200+'])\n",
        "print(df['DisLiverAge'].unique())"
      ]
    },
    {
      "cell_type": "code",
      "execution_count": 62,
      "metadata": {
        "colab": {
          "base_uri": "https://localhost:8080/"
        },
        "id": "Gh23DnRdLDdT",
        "outputId": "9f8b5e3f-710b-49b2-b054-a8d2f731e91a"
      },
      "outputs": [
        {
          "name": "stdout",
          "output_type": "stream",
          "text": [
            "[2 1 0]\n",
            "['<100', NaN]\n",
            "Categories (7, object): ['<100' < '100-120' < '120-140' < '140-160' < '160-180' < '180-200' < '200+']\n"
          ]
        }
      ],
      "source": [
        "print(df['DisTBDx'].unique())\n",
        "df['DisTBDx'] = pd.cut(df['DisTBDx'], bins=[0, 100, 120, 140, 160, 180, 200, 220], labels=['<100', '100-120', '120-140', '140-160', '160-180', '180-200', '200+'])\n",
        "print(df['DisTBDx'].unique())"
      ]
    },
    {
      "cell_type": "code",
      "execution_count": 63,
      "metadata": {
        "colab": {
          "base_uri": "https://localhost:8080/"
        },
        "id": "bglwSHk9LDqx",
        "outputId": "7d588cdf-fcad-4c69-a6e6-b4a1dcb95c9c"
      },
      "outputs": [
        {
          "name": "stdout",
          "output_type": "stream",
          "text": [
            "[ 98  31  25  35  30  24  14   9  29  50  45  19  18  27  20   1  36  60\n",
            "  17  41  65  49  34  12  37  32  38  51  53  22  57  63  15  13  21  42\n",
            "  58  40  46  61  54  52  10  39  56  26  59  44  68  33   7  28  16  48\n",
            "  47  55  23  43  69  70   6   3   8  67  71  74  11  72 171  64   0  62\n",
            "  66   2   5]\n",
            "['<100', '160-180', NaN]\n",
            "Categories (7, object): ['<100' < '100-120' < '120-140' < '140-160' < '160-180' < '180-200' < '200+']\n"
          ]
        }
      ],
      "source": [
        "print(df['DisTBAge'].unique())\n",
        "df['DisTBAge'] = pd.cut(df['DisTBAge'], bins=[0, 100, 120, 140, 160, 180, 200, 220], labels=['<100', '100-120', '120-140', '140-160', '160-180', '180-200', '200+'])\n",
        "print(df['DisTBAge'].unique())"
      ]
    },
    {
      "cell_type": "code",
      "execution_count": 64,
      "metadata": {
        "colab": {
          "base_uri": "https://localhost:8080/",
          "height": 302
        },
        "id": "L_FUesm1Hrda",
        "outputId": "921f02b3-da98-4383-88aa-d9a4f6cce739"
      },
      "outputs": [
        {
          "data": {
            "text/html": [
              "<div>\n",
              "<style scoped>\n",
              "    .dataframe tbody tr th:only-of-type {\n",
              "        vertical-align: middle;\n",
              "    }\n",
              "\n",
              "    .dataframe tbody tr th {\n",
              "        vertical-align: top;\n",
              "    }\n",
              "\n",
              "    .dataframe thead th {\n",
              "        text-align: right;\n",
              "    }\n",
              "</style>\n",
              "<table border=\"1\" class=\"dataframe\">\n",
              "  <thead>\n",
              "    <tr style=\"text-align: right;\">\n",
              "      <th></th>\n",
              "      <th>DisRheumaticHeartAge</th>\n",
              "      <th>DisHeartDiseaseDx</th>\n",
              "      <th>DisHeartDiseaseAge</th>\n",
              "      <th>DisStrokeDx</th>\n",
              "      <th>DisStrokeAge</th>\n",
              "      <th>DisHypertensionDx</th>\n",
              "      <th>DisHypertensionAge</th>\n",
              "      <th>DisDiabetesDx</th>\n",
              "      <th>DisDiabetesAge</th>\n",
              "      <th>DisCOPDDx</th>\n",
              "      <th>DisCOPDAge</th>\n",
              "      <th>DisRenalFailureDx</th>\n",
              "      <th>DisRenalFailureAge</th>\n",
              "      <th>DisJaundiceDx</th>\n",
              "      <th>DisJaundiceAge</th>\n",
              "      <th>DisLiverDx</th>\n",
              "      <th>DisLiverAge</th>\n",
              "      <th>DisTBDx</th>\n",
              "      <th>DisTBAge</th>\n",
              "    </tr>\n",
              "    <tr>\n",
              "      <th>DisRheumaticHeartDx</th>\n",
              "      <th></th>\n",
              "      <th></th>\n",
              "      <th></th>\n",
              "      <th></th>\n",
              "      <th></th>\n",
              "      <th></th>\n",
              "      <th></th>\n",
              "      <th></th>\n",
              "      <th></th>\n",
              "      <th></th>\n",
              "      <th></th>\n",
              "      <th></th>\n",
              "      <th></th>\n",
              "      <th></th>\n",
              "      <th></th>\n",
              "      <th></th>\n",
              "      <th></th>\n",
              "      <th></th>\n",
              "      <th></th>\n",
              "    </tr>\n",
              "  </thead>\n",
              "  <tbody>\n",
              "    <tr>\n",
              "      <th>2</th>\n",
              "      <td>NaN</td>\n",
              "      <td>&lt;10</td>\n",
              "      <td>NaN</td>\n",
              "      <td>&lt;15</td>\n",
              "      <td>NaN</td>\n",
              "      <td>&lt;30</td>\n",
              "      <td>90+</td>\n",
              "      <td>&lt;20</td>\n",
              "      <td>90-100</td>\n",
              "      <td>&lt;100</td>\n",
              "      <td>&lt;100</td>\n",
              "      <td>&lt;100</td>\n",
              "      <td>&lt;100</td>\n",
              "      <td>&lt;100</td>\n",
              "      <td>&lt;100</td>\n",
              "      <td>&lt;100</td>\n",
              "      <td>&lt;100</td>\n",
              "      <td>&lt;100</td>\n",
              "      <td>&lt;100</td>\n",
              "    </tr>\n",
              "    <tr>\n",
              "      <th>2</th>\n",
              "      <td>NaN</td>\n",
              "      <td>&lt;10</td>\n",
              "      <td>50-60</td>\n",
              "      <td>&lt;15</td>\n",
              "      <td>NaN</td>\n",
              "      <td>&lt;30</td>\n",
              "      <td>50-60</td>\n",
              "      <td>&lt;20</td>\n",
              "      <td>90-100</td>\n",
              "      <td>&lt;100</td>\n",
              "      <td>&lt;100</td>\n",
              "      <td>&lt;100</td>\n",
              "      <td>&lt;100</td>\n",
              "      <td>&lt;100</td>\n",
              "      <td>&lt;100</td>\n",
              "      <td>&lt;100</td>\n",
              "      <td>&lt;100</td>\n",
              "      <td>&lt;100</td>\n",
              "      <td>&lt;100</td>\n",
              "    </tr>\n",
              "    <tr>\n",
              "      <th>2</th>\n",
              "      <td>NaN</td>\n",
              "      <td>&lt;10</td>\n",
              "      <td>40-50</td>\n",
              "      <td>&lt;15</td>\n",
              "      <td>NaN</td>\n",
              "      <td>&lt;30</td>\n",
              "      <td>90+</td>\n",
              "      <td>&lt;20</td>\n",
              "      <td>90-100</td>\n",
              "      <td>&lt;100</td>\n",
              "      <td>&lt;100</td>\n",
              "      <td>&lt;100</td>\n",
              "      <td>&lt;100</td>\n",
              "      <td>&lt;100</td>\n",
              "      <td>&lt;100</td>\n",
              "      <td>&lt;100</td>\n",
              "      <td>&lt;100</td>\n",
              "      <td>&lt;100</td>\n",
              "      <td>&lt;100</td>\n",
              "    </tr>\n",
              "    <tr>\n",
              "      <th>2</th>\n",
              "      <td>NaN</td>\n",
              "      <td>&lt;10</td>\n",
              "      <td>NaN</td>\n",
              "      <td>&lt;15</td>\n",
              "      <td>NaN</td>\n",
              "      <td>&lt;30</td>\n",
              "      <td>90+</td>\n",
              "      <td>&lt;20</td>\n",
              "      <td>90-100</td>\n",
              "      <td>&lt;100</td>\n",
              "      <td>&lt;100</td>\n",
              "      <td>&lt;100</td>\n",
              "      <td>&lt;100</td>\n",
              "      <td>&lt;100</td>\n",
              "      <td>&lt;100</td>\n",
              "      <td>&lt;100</td>\n",
              "      <td>&lt;100</td>\n",
              "      <td>&lt;100</td>\n",
              "      <td>&lt;100</td>\n",
              "    </tr>\n",
              "    <tr>\n",
              "      <th>2</th>\n",
              "      <td>NaN</td>\n",
              "      <td>&lt;10</td>\n",
              "      <td>70-80</td>\n",
              "      <td>&lt;15</td>\n",
              "      <td>NaN</td>\n",
              "      <td>&lt;30</td>\n",
              "      <td>70-80</td>\n",
              "      <td>&lt;20</td>\n",
              "      <td>90-100</td>\n",
              "      <td>&lt;100</td>\n",
              "      <td>&lt;100</td>\n",
              "      <td>&lt;100</td>\n",
              "      <td>&lt;100</td>\n",
              "      <td>&lt;100</td>\n",
              "      <td>&lt;100</td>\n",
              "      <td>&lt;100</td>\n",
              "      <td>&lt;100</td>\n",
              "      <td>&lt;100</td>\n",
              "      <td>&lt;100</td>\n",
              "    </tr>\n",
              "  </tbody>\n",
              "</table>\n",
              "</div>"
            ],
            "text/plain": [
              "                    DisRheumaticHeartAge DisHeartDiseaseDx DisHeartDiseaseAge  \\\n",
              "DisRheumaticHeartDx                                                             \n",
              "2                                    NaN               <10                NaN   \n",
              "2                                    NaN               <10              50-60   \n",
              "2                                    NaN               <10              40-50   \n",
              "2                                    NaN               <10                NaN   \n",
              "2                                    NaN               <10              70-80   \n",
              "\n",
              "                    DisStrokeDx DisStrokeAge DisHypertensionDx  \\\n",
              "DisRheumaticHeartDx                                              \n",
              "2                           <15          NaN               <30   \n",
              "2                           <15          NaN               <30   \n",
              "2                           <15          NaN               <30   \n",
              "2                           <15          NaN               <30   \n",
              "2                           <15          NaN               <30   \n",
              "\n",
              "                    DisHypertensionAge DisDiabetesDx DisDiabetesAge DisCOPDDx  \\\n",
              "DisRheumaticHeartDx                                                             \n",
              "2                                  90+           <20         90-100      <100   \n",
              "2                                50-60           <20         90-100      <100   \n",
              "2                                  90+           <20         90-100      <100   \n",
              "2                                  90+           <20         90-100      <100   \n",
              "2                                70-80           <20         90-100      <100   \n",
              "\n",
              "                    DisCOPDAge DisRenalFailureDx DisRenalFailureAge  \\\n",
              "DisRheumaticHeartDx                                                   \n",
              "2                         <100              <100               <100   \n",
              "2                         <100              <100               <100   \n",
              "2                         <100              <100               <100   \n",
              "2                         <100              <100               <100   \n",
              "2                         <100              <100               <100   \n",
              "\n",
              "                    DisJaundiceDx DisJaundiceAge DisLiverDx DisLiverAge  \\\n",
              "DisRheumaticHeartDx                                                       \n",
              "2                            <100           <100       <100        <100   \n",
              "2                            <100           <100       <100        <100   \n",
              "2                            <100           <100       <100        <100   \n",
              "2                            <100           <100       <100        <100   \n",
              "2                            <100           <100       <100        <100   \n",
              "\n",
              "                    DisTBDx DisTBAge  \n",
              "DisRheumaticHeartDx                   \n",
              "2                      <100     <100  \n",
              "2                      <100     <100  \n",
              "2                      <100     <100  \n",
              "2                      <100     <100  \n",
              "2                      <100     <100  "
            ]
          },
          "execution_count": 64,
          "metadata": {},
          "output_type": "execute_result"
        }
      ],
      "source": [
        "df.head()"
      ]
    },
    {
      "cell_type": "code",
      "execution_count": 65,
      "metadata": {
        "colab": {
          "base_uri": "https://localhost:8080/"
        },
        "id": "KoOJ-WVGHrda",
        "outputId": "7e7bc94e-66ab-457b-ecdb-f1cff312ef3c"
      },
      "outputs": [
        {
          "data": {
            "text/plain": [
              "Index(['DisRheumaticHeartAge', 'DisHeartDiseaseDx', 'DisHeartDiseaseAge',\n",
              "       'DisStrokeDx', 'DisStrokeAge', 'DisHypertensionDx',\n",
              "       'DisHypertensionAge', 'DisDiabetesDx', 'DisDiabetesAge', 'DisCOPDDx',\n",
              "       'DisCOPDAge', 'DisRenalFailureDx', 'DisRenalFailureAge',\n",
              "       'DisJaundiceDx', 'DisJaundiceAge', 'DisLiverDx', 'DisLiverAge',\n",
              "       'DisTBDx', 'DisTBAge'],\n",
              "      dtype='object')"
            ]
          },
          "execution_count": 65,
          "metadata": {},
          "output_type": "execute_result"
        }
      ],
      "source": [
        "df.columns"
      ]
    },
    {
      "cell_type": "code",
      "execution_count": 66,
      "metadata": {
        "colab": {
          "base_uri": "https://localhost:8080/",
          "height": 331
        },
        "id": "ijUu4ZooHrdb",
        "outputId": "04835c12-6e18-40bb-94ce-3f193b62345d"
      },
      "outputs": [
        {
          "data": {
            "text/html": [
              "<div>\n",
              "<style scoped>\n",
              "    .dataframe tbody tr th:only-of-type {\n",
              "        vertical-align: middle;\n",
              "    }\n",
              "\n",
              "    .dataframe tbody tr th {\n",
              "        vertical-align: top;\n",
              "    }\n",
              "\n",
              "    .dataframe thead th {\n",
              "        text-align: right;\n",
              "    }\n",
              "</style>\n",
              "<table border=\"1\" class=\"dataframe\">\n",
              "  <thead>\n",
              "    <tr style=\"text-align: right;\">\n",
              "      <th></th>\n",
              "      <th>DisRheumaticHeartAge_&lt;30</th>\n",
              "      <th>DisRheumaticHeartAge_30-40</th>\n",
              "      <th>DisRheumaticHeartAge_40-50</th>\n",
              "      <th>DisRheumaticHeartAge_50-60</th>\n",
              "      <th>DisRheumaticHeartAge_60-70</th>\n",
              "      <th>DisRheumaticHeartAge_70-80</th>\n",
              "      <th>DisRheumaticHeartAge_80+</th>\n",
              "      <th>DisHeartDiseaseDx_&lt;10</th>\n",
              "      <th>DisHeartDiseaseDx_10-20</th>\n",
              "      <th>DisHeartDiseaseDx_20-30</th>\n",
              "      <th>...</th>\n",
              "      <th>DisTBDx_160-180</th>\n",
              "      <th>DisTBDx_180-200</th>\n",
              "      <th>DisTBDx_200+</th>\n",
              "      <th>DisTBAge_&lt;100</th>\n",
              "      <th>DisTBAge_100-120</th>\n",
              "      <th>DisTBAge_120-140</th>\n",
              "      <th>DisTBAge_140-160</th>\n",
              "      <th>DisTBAge_160-180</th>\n",
              "      <th>DisTBAge_180-200</th>\n",
              "      <th>DisTBAge_200+</th>\n",
              "    </tr>\n",
              "    <tr>\n",
              "      <th>DisRheumaticHeartDx</th>\n",
              "      <th></th>\n",
              "      <th></th>\n",
              "      <th></th>\n",
              "      <th></th>\n",
              "      <th></th>\n",
              "      <th></th>\n",
              "      <th></th>\n",
              "      <th></th>\n",
              "      <th></th>\n",
              "      <th></th>\n",
              "      <th></th>\n",
              "      <th></th>\n",
              "      <th></th>\n",
              "      <th></th>\n",
              "      <th></th>\n",
              "      <th></th>\n",
              "      <th></th>\n",
              "      <th></th>\n",
              "      <th></th>\n",
              "      <th></th>\n",
              "      <th></th>\n",
              "    </tr>\n",
              "  </thead>\n",
              "  <tbody>\n",
              "    <tr>\n",
              "      <th>2</th>\n",
              "      <td>0</td>\n",
              "      <td>0</td>\n",
              "      <td>0</td>\n",
              "      <td>0</td>\n",
              "      <td>0</td>\n",
              "      <td>0</td>\n",
              "      <td>0</td>\n",
              "      <td>1</td>\n",
              "      <td>0</td>\n",
              "      <td>0</td>\n",
              "      <td>...</td>\n",
              "      <td>0</td>\n",
              "      <td>0</td>\n",
              "      <td>0</td>\n",
              "      <td>1</td>\n",
              "      <td>0</td>\n",
              "      <td>0</td>\n",
              "      <td>0</td>\n",
              "      <td>0</td>\n",
              "      <td>0</td>\n",
              "      <td>0</td>\n",
              "    </tr>\n",
              "    <tr>\n",
              "      <th>2</th>\n",
              "      <td>0</td>\n",
              "      <td>0</td>\n",
              "      <td>0</td>\n",
              "      <td>0</td>\n",
              "      <td>0</td>\n",
              "      <td>0</td>\n",
              "      <td>0</td>\n",
              "      <td>1</td>\n",
              "      <td>0</td>\n",
              "      <td>0</td>\n",
              "      <td>...</td>\n",
              "      <td>0</td>\n",
              "      <td>0</td>\n",
              "      <td>0</td>\n",
              "      <td>1</td>\n",
              "      <td>0</td>\n",
              "      <td>0</td>\n",
              "      <td>0</td>\n",
              "      <td>0</td>\n",
              "      <td>0</td>\n",
              "      <td>0</td>\n",
              "    </tr>\n",
              "    <tr>\n",
              "      <th>2</th>\n",
              "      <td>0</td>\n",
              "      <td>0</td>\n",
              "      <td>0</td>\n",
              "      <td>0</td>\n",
              "      <td>0</td>\n",
              "      <td>0</td>\n",
              "      <td>0</td>\n",
              "      <td>1</td>\n",
              "      <td>0</td>\n",
              "      <td>0</td>\n",
              "      <td>...</td>\n",
              "      <td>0</td>\n",
              "      <td>0</td>\n",
              "      <td>0</td>\n",
              "      <td>1</td>\n",
              "      <td>0</td>\n",
              "      <td>0</td>\n",
              "      <td>0</td>\n",
              "      <td>0</td>\n",
              "      <td>0</td>\n",
              "      <td>0</td>\n",
              "    </tr>\n",
              "    <tr>\n",
              "      <th>2</th>\n",
              "      <td>0</td>\n",
              "      <td>0</td>\n",
              "      <td>0</td>\n",
              "      <td>0</td>\n",
              "      <td>0</td>\n",
              "      <td>0</td>\n",
              "      <td>0</td>\n",
              "      <td>1</td>\n",
              "      <td>0</td>\n",
              "      <td>0</td>\n",
              "      <td>...</td>\n",
              "      <td>0</td>\n",
              "      <td>0</td>\n",
              "      <td>0</td>\n",
              "      <td>1</td>\n",
              "      <td>0</td>\n",
              "      <td>0</td>\n",
              "      <td>0</td>\n",
              "      <td>0</td>\n",
              "      <td>0</td>\n",
              "      <td>0</td>\n",
              "    </tr>\n",
              "    <tr>\n",
              "      <th>2</th>\n",
              "      <td>0</td>\n",
              "      <td>0</td>\n",
              "      <td>0</td>\n",
              "      <td>0</td>\n",
              "      <td>0</td>\n",
              "      <td>0</td>\n",
              "      <td>0</td>\n",
              "      <td>1</td>\n",
              "      <td>0</td>\n",
              "      <td>0</td>\n",
              "      <td>...</td>\n",
              "      <td>0</td>\n",
              "      <td>0</td>\n",
              "      <td>0</td>\n",
              "      <td>1</td>\n",
              "      <td>0</td>\n",
              "      <td>0</td>\n",
              "      <td>0</td>\n",
              "      <td>0</td>\n",
              "      <td>0</td>\n",
              "      <td>0</td>\n",
              "    </tr>\n",
              "  </tbody>\n",
              "</table>\n",
              "<p>5 rows × 158 columns</p>\n",
              "</div>"
            ],
            "text/plain": [
              "                     DisRheumaticHeartAge_<30  DisRheumaticHeartAge_30-40  \\\n",
              "DisRheumaticHeartDx                                                         \n",
              "2                                           0                           0   \n",
              "2                                           0                           0   \n",
              "2                                           0                           0   \n",
              "2                                           0                           0   \n",
              "2                                           0                           0   \n",
              "\n",
              "                     DisRheumaticHeartAge_40-50  DisRheumaticHeartAge_50-60  \\\n",
              "DisRheumaticHeartDx                                                           \n",
              "2                                             0                           0   \n",
              "2                                             0                           0   \n",
              "2                                             0                           0   \n",
              "2                                             0                           0   \n",
              "2                                             0                           0   \n",
              "\n",
              "                     DisRheumaticHeartAge_60-70  DisRheumaticHeartAge_70-80  \\\n",
              "DisRheumaticHeartDx                                                           \n",
              "2                                             0                           0   \n",
              "2                                             0                           0   \n",
              "2                                             0                           0   \n",
              "2                                             0                           0   \n",
              "2                                             0                           0   \n",
              "\n",
              "                     DisRheumaticHeartAge_80+  DisHeartDiseaseDx_<10  \\\n",
              "DisRheumaticHeartDx                                                    \n",
              "2                                           0                      1   \n",
              "2                                           0                      1   \n",
              "2                                           0                      1   \n",
              "2                                           0                      1   \n",
              "2                                           0                      1   \n",
              "\n",
              "                     DisHeartDiseaseDx_10-20  DisHeartDiseaseDx_20-30  ...  \\\n",
              "DisRheumaticHeartDx                                                    ...   \n",
              "2                                          0                        0  ...   \n",
              "2                                          0                        0  ...   \n",
              "2                                          0                        0  ...   \n",
              "2                                          0                        0  ...   \n",
              "2                                          0                        0  ...   \n",
              "\n",
              "                     DisTBDx_160-180  DisTBDx_180-200  DisTBDx_200+  \\\n",
              "DisRheumaticHeartDx                                                   \n",
              "2                                  0                0             0   \n",
              "2                                  0                0             0   \n",
              "2                                  0                0             0   \n",
              "2                                  0                0             0   \n",
              "2                                  0                0             0   \n",
              "\n",
              "                     DisTBAge_<100  DisTBAge_100-120  DisTBAge_120-140  \\\n",
              "DisRheumaticHeartDx                                                      \n",
              "2                                1                 0                 0   \n",
              "2                                1                 0                 0   \n",
              "2                                1                 0                 0   \n",
              "2                                1                 0                 0   \n",
              "2                                1                 0                 0   \n",
              "\n",
              "                     DisTBAge_140-160  DisTBAge_160-180  DisTBAge_180-200  \\\n",
              "DisRheumaticHeartDx                                                         \n",
              "2                                   0                 0                 0   \n",
              "2                                   0                 0                 0   \n",
              "2                                   0                 0                 0   \n",
              "2                                   0                 0                 0   \n",
              "2                                   0                 0                 0   \n",
              "\n",
              "                     DisTBAge_200+  \n",
              "DisRheumaticHeartDx                 \n",
              "2                                0  \n",
              "2                                0  \n",
              "2                                0  \n",
              "2                                0  \n",
              "2                                0  \n",
              "\n",
              "[5 rows x 158 columns]"
            ]
          },
          "execution_count": 66,
          "metadata": {},
          "output_type": "execute_result"
        }
      ],
      "source": [
        "# Create dummy variables for each categorical variable\n",
        "# df = pd.get_dummies(df, columns=['age.diag', 'age.menarc', 'age.menop', 'lactaton', 'fpregnancy', 'ocp', 'hrt', 'agef', 'weight', 'height'])\n",
        "df = pd.get_dummies(df, columns=df.columns)\n",
        "df.head()"
      ]
    },
    {
      "cell_type": "code",
      "execution_count": 67,
      "metadata": {
        "colab": {
          "base_uri": "https://localhost:8080/",
          "height": 424
        },
        "id": "7rD85xcOHrdb",
        "outputId": "b780306d-eb1a-4953-e531-9b6e7b1aeec6"
      },
      "outputs": [
        {
          "name": "stderr",
          "output_type": "stream",
          "text": [
            "/home/smbh/venvs/heart_association_rules/lib/python3.10/site-packages/mlxtend/frequent_patterns/fpcommon.py:111: DeprecationWarning: DataFrames with non-bool types result in worse computationalperformance and their support might be discontinued in the future.Please use a DataFrame with bool type\n",
            "  warnings.warn(\n"
          ]
        },
        {
          "data": {
            "text/html": [
              "<div>\n",
              "<style scoped>\n",
              "    .dataframe tbody tr th:only-of-type {\n",
              "        vertical-align: middle;\n",
              "    }\n",
              "\n",
              "    .dataframe tbody tr th {\n",
              "        vertical-align: top;\n",
              "    }\n",
              "\n",
              "    .dataframe thead th {\n",
              "        text-align: right;\n",
              "    }\n",
              "</style>\n",
              "<table border=\"1\" class=\"dataframe\">\n",
              "  <thead>\n",
              "    <tr style=\"text-align: right;\">\n",
              "      <th></th>\n",
              "      <th>support</th>\n",
              "      <th>itemsets</th>\n",
              "    </tr>\n",
              "  </thead>\n",
              "  <tbody>\n",
              "    <tr>\n",
              "      <th>0</th>\n",
              "      <td>1.000000</td>\n",
              "      <td>(DisHeartDiseaseDx_&lt;10)</td>\n",
              "    </tr>\n",
              "    <tr>\n",
              "      <th>1</th>\n",
              "      <td>1.000000</td>\n",
              "      <td>(DisStrokeDx_&lt;15)</td>\n",
              "    </tr>\n",
              "    <tr>\n",
              "      <th>2</th>\n",
              "      <td>1.000000</td>\n",
              "      <td>(DisHypertensionDx_&lt;30)</td>\n",
              "    </tr>\n",
              "    <tr>\n",
              "      <th>3</th>\n",
              "      <td>1.000000</td>\n",
              "      <td>(DisDiabetesDx_&lt;20)</td>\n",
              "    </tr>\n",
              "    <tr>\n",
              "      <th>4</th>\n",
              "      <td>0.931221</td>\n",
              "      <td>(DisDiabetesAge_90-100)</td>\n",
              "    </tr>\n",
              "    <tr>\n",
              "      <th>...</th>\n",
              "      <td>...</td>\n",
              "      <td>...</td>\n",
              "    </tr>\n",
              "    <tr>\n",
              "      <th>32762</th>\n",
              "      <td>0.931141</td>\n",
              "      <td>(DisJaundiceAge_&lt;100, DisRenalFailureDx_&lt;100, ...</td>\n",
              "    </tr>\n",
              "    <tr>\n",
              "      <th>32763</th>\n",
              "      <td>0.931141</td>\n",
              "      <td>(DisJaundiceAge_&lt;100, DisRenalFailureDx_&lt;100, ...</td>\n",
              "    </tr>\n",
              "    <tr>\n",
              "      <th>32764</th>\n",
              "      <td>0.931141</td>\n",
              "      <td>(DisJaundiceAge_&lt;100, DisRenalFailureDx_&lt;100, ...</td>\n",
              "    </tr>\n",
              "    <tr>\n",
              "      <th>32765</th>\n",
              "      <td>0.931141</td>\n",
              "      <td>(DisJaundiceAge_&lt;100, DisRenalFailureDx_&lt;100, ...</td>\n",
              "    </tr>\n",
              "    <tr>\n",
              "      <th>32766</th>\n",
              "      <td>0.931141</td>\n",
              "      <td>(DisJaundiceAge_&lt;100, DisRenalFailureDx_&lt;100, ...</td>\n",
              "    </tr>\n",
              "  </tbody>\n",
              "</table>\n",
              "<p>32767 rows × 2 columns</p>\n",
              "</div>"
            ],
            "text/plain": [
              "        support                                           itemsets\n",
              "0      1.000000                            (DisHeartDiseaseDx_<10)\n",
              "1      1.000000                                  (DisStrokeDx_<15)\n",
              "2      1.000000                            (DisHypertensionDx_<30)\n",
              "3      1.000000                                (DisDiabetesDx_<20)\n",
              "4      0.931221                            (DisDiabetesAge_90-100)\n",
              "...         ...                                                ...\n",
              "32762  0.931141  (DisJaundiceAge_<100, DisRenalFailureDx_<100, ...\n",
              "32763  0.931141  (DisJaundiceAge_<100, DisRenalFailureDx_<100, ...\n",
              "32764  0.931141  (DisJaundiceAge_<100, DisRenalFailureDx_<100, ...\n",
              "32765  0.931141  (DisJaundiceAge_<100, DisRenalFailureDx_<100, ...\n",
              "32766  0.931141  (DisJaundiceAge_<100, DisRenalFailureDx_<100, ...\n",
              "\n",
              "[32767 rows x 2 columns]"
            ]
          },
          "execution_count": 67,
          "metadata": {},
          "output_type": "execute_result"
        }
      ],
      "source": [
        "# Use Apriori to identify frequent itemsets\n",
        "frequent_itemsets = apriori(df, min_support=0.9, use_colnames=True)\n",
        "frequent_itemsets"
      ]
    },
    {
      "cell_type": "code",
      "execution_count": 68,
      "metadata": {
        "colab": {
          "base_uri": "https://localhost:8080/"
        },
        "id": "kOvrWfecHrdb",
        "outputId": "2b2cf7c7-ee0e-4b82-cc6b-852fded9077c"
      },
      "outputs": [],
      "source": [
        "# Generate association rules using the frequent itemsets\n",
        "association_rules = association_rules(frequent_itemsets, min_threshold=.9)\n",
        "print(association_rules)"
      ]
    },
    {
      "cell_type": "code",
      "execution_count": 30,
      "metadata": {
        "colab": {
          "base_uri": "https://localhost:8080/",
          "height": 224
        },
        "id": "fWtCZu2RHrdc",
        "outputId": "87158d62-3830-430b-83d9-cc32cc883847"
      },
      "outputs": [
        {
          "name": "stdout",
          "output_type": "stream",
          "text": [
            "(4750202, 9)\n"
          ]
        },
        {
          "data": {
            "text/html": [
              "\n",
              "  <div id=\"df-d8573bac-e6d1-43b1-aa87-5c502a55e508\">\n",
              "    <div class=\"colab-df-container\">\n",
              "      <div>\n",
              "<style scoped>\n",
              "    .dataframe tbody tr th:only-of-type {\n",
              "        vertical-align: middle;\n",
              "    }\n",
              "\n",
              "    .dataframe tbody tr th {\n",
              "        vertical-align: top;\n",
              "    }\n",
              "\n",
              "    .dataframe thead th {\n",
              "        text-align: right;\n",
              "    }\n",
              "</style>\n",
              "<table border=\"1\" class=\"dataframe\">\n",
              "  <thead>\n",
              "    <tr style=\"text-align: right;\">\n",
              "      <th></th>\n",
              "      <th>antecedents</th>\n",
              "      <th>consequents</th>\n",
              "      <th>antecedent support</th>\n",
              "      <th>consequent support</th>\n",
              "      <th>support</th>\n",
              "      <th>confidence</th>\n",
              "      <th>lift</th>\n",
              "      <th>leverage</th>\n",
              "      <th>conviction</th>\n",
              "    </tr>\n",
              "  </thead>\n",
              "  <tbody>\n",
              "    <tr>\n",
              "      <th>0</th>\n",
              "      <td>(DisHeartDiseaseDx_&lt;10)</td>\n",
              "      <td>(DisStrokeDx_&lt;15)</td>\n",
              "      <td>1.0</td>\n",
              "      <td>1.0</td>\n",
              "      <td>1.0</td>\n",
              "      <td>1.0</td>\n",
              "      <td>1.0</td>\n",
              "      <td>0.0</td>\n",
              "      <td>inf</td>\n",
              "    </tr>\n",
              "    <tr>\n",
              "      <th>1</th>\n",
              "      <td>(DisStrokeDx_&lt;15)</td>\n",
              "      <td>(DisHeartDiseaseDx_&lt;10)</td>\n",
              "      <td>1.0</td>\n",
              "      <td>1.0</td>\n",
              "      <td>1.0</td>\n",
              "      <td>1.0</td>\n",
              "      <td>1.0</td>\n",
              "      <td>0.0</td>\n",
              "      <td>inf</td>\n",
              "    </tr>\n",
              "    <tr>\n",
              "      <th>2</th>\n",
              "      <td>(DisHypertensionDx_&lt;30)</td>\n",
              "      <td>(DisHeartDiseaseDx_&lt;10)</td>\n",
              "      <td>1.0</td>\n",
              "      <td>1.0</td>\n",
              "      <td>1.0</td>\n",
              "      <td>1.0</td>\n",
              "      <td>1.0</td>\n",
              "      <td>0.0</td>\n",
              "      <td>inf</td>\n",
              "    </tr>\n",
              "    <tr>\n",
              "      <th>3</th>\n",
              "      <td>(DisHeartDiseaseDx_&lt;10)</td>\n",
              "      <td>(DisHypertensionDx_&lt;30)</td>\n",
              "      <td>1.0</td>\n",
              "      <td>1.0</td>\n",
              "      <td>1.0</td>\n",
              "      <td>1.0</td>\n",
              "      <td>1.0</td>\n",
              "      <td>0.0</td>\n",
              "      <td>inf</td>\n",
              "    </tr>\n",
              "    <tr>\n",
              "      <th>4</th>\n",
              "      <td>(DisDiabetesDx_&lt;20)</td>\n",
              "      <td>(DisHeartDiseaseDx_&lt;10)</td>\n",
              "      <td>1.0</td>\n",
              "      <td>1.0</td>\n",
              "      <td>1.0</td>\n",
              "      <td>1.0</td>\n",
              "      <td>1.0</td>\n",
              "      <td>0.0</td>\n",
              "      <td>inf</td>\n",
              "    </tr>\n",
              "  </tbody>\n",
              "</table>\n",
              "</div>\n",
              "      <button class=\"colab-df-convert\" onclick=\"convertToInteractive('df-d8573bac-e6d1-43b1-aa87-5c502a55e508')\"\n",
              "              title=\"Convert this dataframe to an interactive table.\"\n",
              "              style=\"display:none;\">\n",
              "        \n",
              "  <svg xmlns=\"http://www.w3.org/2000/svg\" height=\"24px\"viewBox=\"0 0 24 24\"\n",
              "       width=\"24px\">\n",
              "    <path d=\"M0 0h24v24H0V0z\" fill=\"none\"/>\n",
              "    <path d=\"M18.56 5.44l.94 2.06.94-2.06 2.06-.94-2.06-.94-.94-2.06-.94 2.06-2.06.94zm-11 1L8.5 8.5l.94-2.06 2.06-.94-2.06-.94L8.5 2.5l-.94 2.06-2.06.94zm10 10l.94 2.06.94-2.06 2.06-.94-2.06-.94-.94-2.06-.94 2.06-2.06.94z\"/><path d=\"M17.41 7.96l-1.37-1.37c-.4-.4-.92-.59-1.43-.59-.52 0-1.04.2-1.43.59L10.3 9.45l-7.72 7.72c-.78.78-.78 2.05 0 2.83L4 21.41c.39.39.9.59 1.41.59.51 0 1.02-.2 1.41-.59l7.78-7.78 2.81-2.81c.8-.78.8-2.07 0-2.86zM5.41 20L4 18.59l7.72-7.72 1.47 1.35L5.41 20z\"/>\n",
              "  </svg>\n",
              "      </button>\n",
              "      \n",
              "  <style>\n",
              "    .colab-df-container {\n",
              "      display:flex;\n",
              "      flex-wrap:wrap;\n",
              "      gap: 12px;\n",
              "    }\n",
              "\n",
              "    .colab-df-convert {\n",
              "      background-color: #E8F0FE;\n",
              "      border: none;\n",
              "      border-radius: 50%;\n",
              "      cursor: pointer;\n",
              "      display: none;\n",
              "      fill: #1967D2;\n",
              "      height: 32px;\n",
              "      padding: 0 0 0 0;\n",
              "      width: 32px;\n",
              "    }\n",
              "\n",
              "    .colab-df-convert:hover {\n",
              "      background-color: #E2EBFA;\n",
              "      box-shadow: 0px 1px 2px rgba(60, 64, 67, 0.3), 0px 1px 3px 1px rgba(60, 64, 67, 0.15);\n",
              "      fill: #174EA6;\n",
              "    }\n",
              "\n",
              "    [theme=dark] .colab-df-convert {\n",
              "      background-color: #3B4455;\n",
              "      fill: #D2E3FC;\n",
              "    }\n",
              "\n",
              "    [theme=dark] .colab-df-convert:hover {\n",
              "      background-color: #434B5C;\n",
              "      box-shadow: 0px 1px 3px 1px rgba(0, 0, 0, 0.15);\n",
              "      filter: drop-shadow(0px 1px 2px rgba(0, 0, 0, 0.3));\n",
              "      fill: #FFFFFF;\n",
              "    }\n",
              "  </style>\n",
              "\n",
              "      <script>\n",
              "        const buttonEl =\n",
              "          document.querySelector('#df-d8573bac-e6d1-43b1-aa87-5c502a55e508 button.colab-df-convert');\n",
              "        buttonEl.style.display =\n",
              "          google.colab.kernel.accessAllowed ? 'block' : 'none';\n",
              "\n",
              "        async function convertToInteractive(key) {\n",
              "          const element = document.querySelector('#df-d8573bac-e6d1-43b1-aa87-5c502a55e508');\n",
              "          const dataTable =\n",
              "            await google.colab.kernel.invokeFunction('convertToInteractive',\n",
              "                                                     [key], {});\n",
              "          if (!dataTable) return;\n",
              "\n",
              "          const docLinkHtml = 'Like what you see? Visit the ' +\n",
              "            '<a target=\"_blank\" href=https://colab.research.google.com/notebooks/data_table.ipynb>data table notebook</a>'\n",
              "            + ' to learn more about interactive tables.';\n",
              "          element.innerHTML = '';\n",
              "          dataTable['output_type'] = 'display_data';\n",
              "          await google.colab.output.renderOutput(dataTable, element);\n",
              "          const docLink = document.createElement('div');\n",
              "          docLink.innerHTML = docLinkHtml;\n",
              "          element.appendChild(docLink);\n",
              "        }\n",
              "      </script>\n",
              "    </div>\n",
              "  </div>\n",
              "  "
            ],
            "text/plain": [
              "               antecedents              consequents  antecedent support  \\\n",
              "0  (DisHeartDiseaseDx_<10)        (DisStrokeDx_<15)                 1.0   \n",
              "1        (DisStrokeDx_<15)  (DisHeartDiseaseDx_<10)                 1.0   \n",
              "2  (DisHypertensionDx_<30)  (DisHeartDiseaseDx_<10)                 1.0   \n",
              "3  (DisHeartDiseaseDx_<10)  (DisHypertensionDx_<30)                 1.0   \n",
              "4      (DisDiabetesDx_<20)  (DisHeartDiseaseDx_<10)                 1.0   \n",
              "\n",
              "   consequent support  support  confidence  lift  leverage  conviction  \n",
              "0                 1.0      1.0         1.0   1.0       0.0         inf  \n",
              "1                 1.0      1.0         1.0   1.0       0.0         inf  \n",
              "2                 1.0      1.0         1.0   1.0       0.0         inf  \n",
              "3                 1.0      1.0         1.0   1.0       0.0         inf  \n",
              "4                 1.0      1.0         1.0   1.0       0.0         inf  "
            ]
          },
          "execution_count": 30,
          "metadata": {},
          "output_type": "execute_result"
        }
      ],
      "source": [
        "print(association_rules.shape)\n",
        "association_rules.head()"
      ]
    },
    {
      "cell_type": "code",
      "execution_count": 31,
      "metadata": {
        "id": "zjtHI6hXHrdc"
      },
      "outputs": [],
      "source": [
        "# drop rows where antecedents contains less than 3 items\n",
        "association_rules = association_rules[association_rules['antecedents'].apply(lambda x: len(x) >= 3)]\n",
        "print(association_rules.shape)\n",
        "association_rules.head()"
      ]
    },
    {
      "cell_type": "code",
      "execution_count": 33,
      "metadata": {
        "id": "R38_8hKBHrdd"
      },
      "outputs": [],
      "source": [
        "association_rules.to_csv('../content/association_rules.csv', index=False)"
      ]
    },
    {
      "cell_type": "code",
      "execution_count": 33,
      "metadata": {
        "id": "JVAfxU4HOYYX"
      },
      "outputs": [],
      "source": []
    }
  ],
  "metadata": {
    "colab": {
      "provenance": []
    },
    "kernelspec": {
      "display_name": "breast_cancer",
      "language": "python",
      "name": "python3"
    },
    "language_info": {
      "codemirror_mode": {
        "name": "ipython",
        "version": 3
      },
      "file_extension": ".py",
      "mimetype": "text/x-python",
      "name": "python",
      "nbconvert_exporter": "python",
      "pygments_lexer": "ipython3",
      "version": "3.10.9"
    },
    "orig_nbformat": 4,
    "vscode": {
      "interpreter": {
        "hash": "be87d49faad2c071a5bf390c45db8b98c9e7a4e64462820d7ded0065131c2078"
      }
    }
  },
  "nbformat": 4,
  "nbformat_minor": 0
}
